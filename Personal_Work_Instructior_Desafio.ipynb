{
  "nbformat": 4,
  "nbformat_minor": 0,
  "metadata": {
    "colab": {
      "provenance": [],
      "authorship_tag": "ABX9TyMtjjzp0GgfqdYRgPetMt39",
      "include_colab_link": true
    },
    "kernelspec": {
      "name": "python3",
      "display_name": "Python 3"
    },
    "language_info": {
      "name": "python"
    }
  },
  "cells": [
    {
      "cell_type": "markdown",
      "metadata": {
        "id": "view-in-github",
        "colab_type": "text"
      },
      "source": [
        "<a href=\"https://colab.research.google.com/github/EduardoFCarvalho/personal_workinstructor/blob/main/Personal_Work_Instructior_Desafio.ipynb\" target=\"_parent\"><img src=\"https://colab.research.google.com/assets/colab-badge.svg\" alt=\"Open In Colab\"/></a>"
      ]
    },
    {
      "cell_type": "code",
      "execution_count": null,
      "metadata": {
        "id": "GvAyyF8GtKPE"
      },
      "outputs": [],
      "source": [
        "!pip install google-genai"
      ]
    },
    {
      "cell_type": "code",
      "source": [
        "# Framework ADK\n",
        "!pip install -q google-adk"
      ],
      "metadata": {
        "collapsed": true,
        "id": "bVXTeOLgtiS4"
      },
      "execution_count": null,
      "outputs": []
    },
    {
      "cell_type": "code",
      "source": [
        "# Configuração API Key do Google Gemini\n",
        "import os\n",
        "from google.colab import userdata\n",
        "\n",
        "# Configuração o cliente da SDK do Gemini\n",
        "from google import genai\n",
        "\n",
        "# Configuração tipos para o chat\n",
        "from google.genai import types"
      ],
      "metadata": {
        "id": "TBeVoJPBts_Q"
      },
      "execution_count": null,
      "outputs": []
    },
    {
      "cell_type": "code",
      "source": [
        "# estrutura para os agentes\n",
        "from google.adk.agents import Agent\n",
        "from google.adk.runners import Runner\n",
        "from google.adk.sessions import InMemorySessionService\n",
        "from google.adk.tools import google_search\n",
        "from google.genai import types  # Para criar conteúdos (Content e Part)\n",
        "from datetime import date\n",
        "import textwrap # Para formatar melhor a saída de texto\n",
        "from IPython.display import display, Markdown # Para exibir texto formatado no Colab\n",
        "import requests # Para fazer requisições HTTP\n",
        "import warnings\n",
        "\n",
        "warnings.filterwarnings(\"ignore\")"
      ],
      "metadata": {
        "id": "gmcT8E37AeiI"
      },
      "execution_count": null,
      "outputs": []
    },
    {
      "cell_type": "code",
      "source": [
        "# Definições de ambiente\n",
        "\n",
        "os.environ[\"GOOGLE_API_KEY\"] = userdata.get('GOOGLE_API_KEY')\n",
        "\n",
        "client = genai.Client()\n",
        "\n",
        "MODEL_ID = \"gemini-2.0-flash\""
      ],
      "metadata": {
        "id": "I5IyVDeZuQoE"
      },
      "execution_count": null,
      "outputs": []
    },
    {
      "cell_type": "code",
      "source": [
        "# Configuração do chat\n",
        "\n",
        "chat_config = types.GenerateContentConfig(\n",
        "    system_instruction = \"\"\"\n",
        "    Você é um assistente pessoal que vai ajudar o usuário que está para iniciar em uma nova vaga de emprego.\n",
        "    Você será educado, com palavras positivas enquanto obtém as principais informações sobre o perfil do\n",
        "    usuário e a vaga de emprego dele.\n",
        "    \"\"\"\n",
        ")\n",
        "\n",
        "chat = client.chats.create(model=MODEL_ID, config=chat_config)"
      ],
      "metadata": {
        "id": "CfCs4CZCvT-7"
      },
      "execution_count": null,
      "outputs": []
    },
    {
      "cell_type": "code",
      "source": [
        "# Variavel resposavel por finalizar a conversa\n",
        "# Encontrei conflito com o exit no colab e foi necessário aplicar de outra forma\n",
        "app_should_exit = False\n",
        "\n",
        "def get_input_or_exit(prompt_message):\n",
        "\n",
        "    global app_should_exit\n",
        "    user_input = input(prompt_message)\n",
        "    if user_input.lower() == 'exit':\n",
        "        print(\"\\nObrigado, espero que possamos conversar novamente em breve. Até logo!\")\n",
        "        app_should_exit = True\n",
        "        return\n",
        "    return user_input"
      ],
      "metadata": {
        "id": "DPrhSaPT4Zw-"
      },
      "execution_count": null,
      "outputs": []
    },
    {
      "cell_type": "code",
      "source": [
        "# Função auxiliar que envia uma mensagem para um agente via Runner e retorna a resposta final\n",
        "def call_agent(agent: Agent, message_text: str) -> str:\n",
        "    # Cria um serviço de sessão em memória\n",
        "    session_service = InMemorySessionService()\n",
        "    # Cria uma nova sessão (você pode personalizar os IDs conforme necessário)\n",
        "    session = session_service.create_session(app_name=agent.name, user_id=\"user1\", session_id=\"session1\")\n",
        "    # Cria um Runner para o agente\n",
        "    runner = Runner(agent=agent, app_name=agent.name, session_service=session_service)\n",
        "    # Cria o conteúdo da mensagem de entrada\n",
        "    content = types.Content(role=\"user\", parts=[types.Part(text=message_text)])\n",
        "\n",
        "    final_response = \"\"\n",
        "    # Itera assincronamente pelos eventos retornados durante a execução do agente\n",
        "    for event in runner.run(user_id=\"user1\", session_id=\"session1\", new_message=content):\n",
        "        if event.is_final_response():\n",
        "          for part in event.content.parts:\n",
        "            if part.text is not None:\n",
        "              final_response += part.text\n",
        "              final_response += \"\\n\"\n",
        "    return final_response"
      ],
      "metadata": {
        "id": "zKXakgajArRy"
      },
      "execution_count": null,
      "outputs": []
    },
    {
      "cell_type": "code",
      "source": [
        "# Função auxiliar para exibir texto formatado em Markdown no Colab\n",
        "def to_markdown(text):\n",
        "  text = text.replace('•', '  *')\n",
        "  return Markdown(textwrap.indent(text, '> ', predicate=lambda _: True))"
      ],
      "metadata": {
        "id": "geozpJa0Atli"
      },
      "execution_count": null,
      "outputs": []
    },
    {
      "cell_type": "code",
      "source": [
        "####################################################\n",
        "# --- Agente 1: Identificador de perfil --- #\n",
        "####################################################\n",
        "def agente_identificador(topico, data_de_hoje):\n",
        "  identificador = Agent(\n",
        "      name = \"agente_identificador\",\n",
        "      model = \"gemini-2.0-flash\",\n",
        "      instruction = \"\"\"\n",
        "      Você é um assistente de identificação de perfil de usuário. Responsável por definir a persona\n",
        "      com base na idade e vaga de trabalho do usuário.\n",
        "      \"\"\",\n",
        "      description = \"Agente de identificação de perfil de usuário\"\n",
        "  )\n",
        "  entrada_do_agente_identificador = f\"Tópico: {topico}\\nData de hoje: {data_de_hoje}\"\n",
        "\n",
        "  perfil_usuario = call_agent(identificador, entrada_do_agente_identificador)\n",
        "\n",
        "  return perfil_usuario"
      ],
      "metadata": {
        "id": "QOuWB0MoBsTp"
      },
      "execution_count": null,
      "outputs": []
    },
    {
      "cell_type": "code",
      "source": [
        "###########################################\n",
        "# --- Agente 2: Interpretador da vaga --- #\n",
        "###########################################\n",
        "def agente_interpretador(topico, data_de_hoje):\n",
        "  interpretador = Agent(\n",
        "      name = \"agente_interpretador\",\n",
        "      model = \"gemini-2.0-flash\",\n",
        "      instruction = \"\"\"\n",
        "      Você é um assistente de identificação de vagas de trabalho. Sua tarefa será receber as informações\n",
        "      da vaga que o usuário irá atuar, separar os tópicos e contextos e com base nisso usar a busca do\n",
        "      Google (google_search) para obter o máximo de informações atuais possíveis sobre todos os temas.\n",
        "      Importante que para cada tópico trazer de forma sucinta os conteúdos para não ficar extenso, no\n",
        "      máximo 3 linhas por tópico.\n",
        "      \"\"\",\n",
        "      description = \"Agente de identificação de perfil de usuário\",\n",
        "      tools = [google_search]\n",
        "  )\n",
        "  entrada_do_agente_interpretador = f\"Tópico: {topico}\\nData de hoje: {data_de_hoje}\"\n",
        "\n",
        "  perfil_da_vaga = call_agent(interpretador, entrada_do_agente_interpretador)\n",
        "\n",
        "  return perfil_da_vaga"
      ],
      "metadata": {
        "id": "-FYD8rDgED1y"
      },
      "execution_count": null,
      "outputs": []
    },
    {
      "cell_type": "code",
      "source": [
        "##################################\n",
        "# --- Agente 3: Estrategista --- #\n",
        "##################################\n",
        "def agente_estrategista(topico, data_de_hoje):\n",
        "  estrategista = Agent(\n",
        "      name = \"agente_estrategista\",\n",
        "      model = \"gemini-2.0-flash\",\n",
        "      instruction = \"\"\"\n",
        "      Você é um assistente de estratégias. Você vai trabalhar com o perfil do usuário, prazo para iniciar\n",
        "      na nova função, conhecimentos que o usuário tem sobre o assunto e informações sobre a função que ele\n",
        "      vai exercer.\n",
        "      Com base nisso você vai planejar um cronograma de estudos para que a pessoa esteja mais preparada\n",
        "      para os desafios que encontrará. Busque também no Google (google_search) sobre cursos que tenham\n",
        "      relevância e disponibilize os links. No máximo 6 links.\n",
        "      \"\"\",\n",
        "      description = \"Agente de identificação de perfil de usuário\",\n",
        "      tools = [google_search]\n",
        "  )\n",
        "  entrada_do_agente_estrategista = f\"Tópico: {topico}\\nData de hoje: {data_de_hoje}\"\n",
        "\n",
        "  perfil_da_vaga = call_agent(estrategista, entrada_do_agente_estrategista)\n",
        "\n",
        "  return perfil_da_vaga"
      ],
      "metadata": {
        "id": "6TVprJUPZb2m"
      },
      "execution_count": null,
      "outputs": []
    },
    {
      "cell_type": "code",
      "source": [
        "##################################\n",
        "# --- Agente 0: Orquestrador --- #\n",
        "##################################\n",
        "def agente_orquestrador(age: str, job: str, time_ti_begin: str, know_things: str, informations: str, data_de_hoje: str) -> str:\n",
        "    print(\"\\nChamando agente_orquestrador...\")\n",
        "\n",
        "    # 1. Prepara e chama o agente_identificador\n",
        "    perfil_input_string = f\"Idade: {age}, Cargo: {job}, Conhecimento prévio: {know_things}\"\n",
        "    print(\" -> Chamando agente_identificador para processar o perfil...\")\n",
        "    perfil_identificado = agente_identificador(perfil_input_string, data_de_hoje)\n",
        "    display(to_markdown(perfil_identificado))\n",
        "    print(\" <- Resposta do agente_identificador recebida.\")\n",
        "\n",
        "    # 2. Prepara e chama o agente_interpretador (Este será o último agente no fluxo atual)\n",
        "    descricao_vaga_input = informations\n",
        "    print(\" -> Chamando agente_interpretador para processar a vaga...\")\n",
        "    vaga_interpretada = agente_interpretador(descricao_vaga_input, data_de_hoje)\n",
        "    display(to_markdown(vaga_interpretada))\n",
        "    print(\" <- Resposta do agente_interpretador recebida.\")\n",
        "\n",
        "    # 3. Criação da estratégia de estudos\n",
        "    infos_para_estrategia = f\"\"\"Perfil do usuário: {perfil_identificado}, Prazo de inicio: {time_ti_begin},\n",
        "    Descrição da vaga: {vaga_interpretada}\"\"\"\n",
        "    print(\" -> Chamando agente_estrategista para processar a estratégia...\")\n",
        "    estrategia_definida = agente_estrategista(infos_para_estrategia, data_de_hoje)\n",
        "    # display(to_markdown(estrategia_definida))\n",
        "    # print(\" <- Resposta do agente_estrategista recebida.\")\n",
        "\n",
        "    # 4. Retorna o resultado do último agente (agente_interpretador)\n",
        "    print(\"Orquestração concluída.\")\n",
        "    return estrategia_definida"
      ],
      "metadata": {
        "id": "ZF8o6hRZF6K3"
      },
      "execution_count": null,
      "outputs": []
    },
    {
      "cell_type": "code",
      "source": [
        "# Lógica principal do chat - Atualizada para chamar o orquestrador\n",
        "def main_chat_logic():\n",
        "    global app_should_exit\n",
        "\n",
        "    print(\"Olá, sou seu assistente pessoal e estou aqui para ajudo-lo com seu novo cargo!\\n\")\n",
        "    print(\"Para iniciarmos vou precisar de algumas informações.\\n\")\n",
        "    print(\"Se em qualquer momento você quiser finalizar nossa conversa basta digitar exit. Vamos começar?\\n\\n\")\n",
        "\n",
        "    # Coleta as informações do usuário\n",
        "    age = get_input_or_exit(\"Qual sua idade? \")\n",
        "    if app_should_exit:\n",
        "        return\n",
        "\n",
        "    job = get_input_or_exit(\"Qual cargo você vai atuar? \")\n",
        "    if app_should_exit:\n",
        "        return\n",
        "\n",
        "    time_to_begin = get_input_or_exit(\"Em quanto tempo você vai iniciar as atividades? \")\n",
        "    if app_should_exit:\n",
        "        return\n",
        "\n",
        "    know_things = get_input_or_exit(\"Descreva seus conhecimentos atuais com relação as informações da vaga: \")\n",
        "    if app_should_exit:\n",
        "        return\n",
        "\n",
        "    informations = get_input_or_exit(\"Descreva a vaga que você vai atuar: \")\n",
        "    if app_should_exit:\n",
        "        return\n",
        "\n",
        "    print(f\"\\nÓtimo! Recebi suas informações: Idade - {age}, Cargo - {job}.\")\n",
        "    print(\"Vou processar os detalhes da vaga que você me passou...\")\n",
        "\n",
        "    # Obtém a data atual para passar aos agentes\n",
        "    data_de_hoje = date.today().strftime(\"%Y-%m-%d\")\n",
        "\n",
        "    # Chama a função orquestradora para processar as informações\n",
        "    final_response_from_orchestrator = agente_orquestrador(age, job, time_to_begin, know_things, informations, data_de_hoje)\n",
        "\n",
        "    # Exibe a resposta final\n",
        "    print(\"\\nProcessamento concluído! Aqui estão as informações sobre a vaga:\\n\")\n",
        "    display(to_markdown(final_response_from_orchestrator))\n",
        "    print(\"\\nEspero ter ajudado! Bons estudos e boa sorte em seu novo emprego!\")\n",
        "\n",
        "\n",
        "# Inicia a aplicação\n",
        "if __name__ == \"__main__\":\n",
        "    main_chat_logic()\n",
        "    if app_should_exit:\n",
        "        print(\"Aplicação encerrada pelo usuário.\")\n",
        "    else:\n",
        "        print(\"\\nAtividades concluídas. Até mais!\")\n"
      ],
      "metadata": {
        "id": "TYw6F57mz6pG"
      },
      "execution_count": null,
      "outputs": []
    }
  ]
}